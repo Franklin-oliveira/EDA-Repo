{
 "cells": [
  {
   "cell_type": "markdown",
   "metadata": {},
   "source": [
    "# Question 2\n",
    "\n",
    "Your job is to implement the radix sort algorithm in Python. The following code is going to be used\n",
    "to test your implementation. You have to submit a notebook with your code.\n",
    "\n",
    "```python\n",
    "def radix_sort(A,d,k):\n",
    "    # A consists of n d-digit ints, with digits ranging 0 -> k-1\n",
    "    #\n",
    "    # implement your code here\n",
    "    # return A_sorted\n",
    "    \n",
    "# Testing your function\n",
    "A = [201, 10, 3, 100]\n",
    "A_sorted = radix_sort(A,3,10)\n",
    "print(A_sorted)\n",
    "# output: [3,10,100,201]\n",
    "```\n",
    "\n",
    "<br>\n",
    "\n",
    "<font color='red'> **_Solution:_** </font>\n",
    "\n",
    "Let's start with some imports..."
   ]
  },
  {
   "cell_type": "code",
   "execution_count": 43,
   "metadata": {},
   "outputs": [],
   "source": [
    "import math\n",
    "import numpy as np"
   ]
  },
  {
   "cell_type": "markdown",
   "metadata": {},
   "source": [
    "The `Radix Sort` algorithm uses other stable sorting algorithms embedded in its code. So, in order to create a radix_sort function, let's consider `Counting` and `Bucket` sorting algorithms as stable options. \n",
    "\n",
    "Let's begin defining a function for each stable algorithm, counting and bucket, respectivelly. \n",
    "\n",
    "---------\n",
    "\n",
    "These functions (counting_sort, bucket_sort and radix_sort) will have the following hierarchy scheme:\n",
    "\n",
    "`radix_sort` -> `bucket_sort` -> `counting_sort`\n",
    "\n",
    "In other words, radix_sort calls for bucket_sort which, in turn, calls for counting_sort function.\n",
    "\n",
    "---------\n",
    "\n",
    "## Defining functions"
   ]
  },
  {
   "cell_type": "code",
   "execution_count": 2,
   "metadata": {},
   "outputs": [],
   "source": [
    "def counting_sort(A, k):\n",
    "    # creates a list to count each element freuency\n",
    "    counts = [0] * k\n",
    "    \n",
    "    # counts element a_i in A\n",
    "    for a_i in A:\n",
    "        counts[a_i] += 1\n",
    "    \n",
    "    result = []\n",
    "    for a_i in range(len(counts)):\n",
    "        \n",
    "        # gets the element in position a_i (same value as index)\n",
    "        result.extend(counts[a_i]*[a_i])\n",
    "    \n",
    "    return result"
   ]
  },
  {
   "cell_type": "code",
   "execution_count": 32,
   "metadata": {},
   "outputs": [],
   "source": [
    "def bucket_sort(arr, num_buckets):\n",
    "    '''\n",
    "    Bucket sort algorithm (calls Counting Sort)\n",
    "    \n",
    "    Inputs: \n",
    "        - arr: list or array to be sorted. Also works if arr is a list of dictionaries with int keys \n",
    "        - num_buckets: number of buckets to split the array into\n",
    "        \n",
    "    Output:\n",
    "        - res: sorted array\n",
    "    '''\n",
    "    # if the array has only one element, it's trivially sorted\n",
    "    if len(arr) == 0:\n",
    "        return arr\n",
    "    \n",
    "    # creates a buckets list \n",
    "    buckets = [[] for _ in range(num_buckets + 1)]\n",
    "    \n",
    "    if type(arr[0]) == dict:\n",
    "        values = []\n",
    "        for a_j in arr: \n",
    "            key_aj = int(list(a_j)[0]) \n",
    "            buckets[key_aj].append(list(a_j.values())[0])\n",
    "            values.append(list(a_j.values())[0])\n",
    "        \n",
    "        Max = max(values)\n",
    "        Min = min(values)\n",
    "        \n",
    "    else:\n",
    "        # Determine minimum and maximum values\n",
    "        Min = min(arr)\n",
    "        Max = max(arr)\n",
    "\n",
    "        bucket_size = math.floor((Max - Min)/ num_buckets)\n",
    "\n",
    "        # distribute array elements into buckets \n",
    "        for i in range(0, len(arr)):\n",
    "            buckets[math.floor(arr[i] / max(bucket_size,1))].append(arr[i])\n",
    "\n",
    "    #print('buckets:', buckets)\n",
    "\n",
    "    #calls counting sort to sort individual buckets\n",
    "    result = []\n",
    "    for i in range(0, len(buckets)):\n",
    "        # includes sorted elements into the resulting array\n",
    "        if len(buckets[i]) > 1:\n",
    "            result.extend(counting_sort(buckets[i],Max+1)) \n",
    "        else:\n",
    "            result.extend(buckets[i])\n",
    "\n",
    "    return result"
   ]
  },
  {
   "cell_type": "code",
   "execution_count": 81,
   "metadata": {},
   "outputs": [],
   "source": [
    "def get_n_digit(number, n):\n",
    "    '''\n",
    "    Returns nth digit of an int number\n",
    "    '''\n",
    "    return math.floor(number / 10**n % 10)\n",
    "\n",
    "\n",
    "def radix_sort(arr,d,k):\n",
    "    '''\n",
    "    Arguments:\n",
    "        - A: list or array with n d-digit ints, with digits ranging from 0 to k-1\n",
    "    \n",
    "    Output:\n",
    "        - A_sorted: sorted list or array\n",
    "    '''\n",
    "        \n",
    "    j = 0\n",
    "    while j < d:\n",
    "        arr_j = []  \n",
    "        \n",
    "        # creates an array with [{key:value}] elements\n",
    "        # each key is the jth digit of the number\n",
    "        for a_i in arr:\n",
    "            keys = {}\n",
    "            keys[get_n_digit(a_i,j)] = a_i\n",
    "            arr_j.append(keys)\n",
    "        \n",
    "        # sorts elements by jth digit\n",
    "        result = bucket_sort(arr_j, num_buckets = 10)\n",
    "\n",
    "        j += 1\n",
    "    \n",
    "    return result"
   ]
  },
  {
   "cell_type": "markdown",
   "metadata": {},
   "source": [
    "## Testing functions"
   ]
  },
  {
   "cell_type": "code",
   "execution_count": 61,
   "metadata": {},
   "outputs": [],
   "source": [
    "A = [201,10,3,100]"
   ]
  },
  {
   "cell_type": "code",
   "execution_count": 64,
   "metadata": {},
   "outputs": [
    {
     "name": "stdout",
     "output_type": "stream",
     "text": [
      "[3, 10, 100, 201]\n"
     ]
    }
   ],
   "source": [
    "A_sorted = counting_sort(A,202)\n",
    "print(A_sorted)"
   ]
  },
  {
   "cell_type": "code",
   "execution_count": 68,
   "metadata": {},
   "outputs": [
    {
     "name": "stdout",
     "output_type": "stream",
     "text": [
      "[3, 10, 100, 201]\n"
     ]
    }
   ],
   "source": [
    "A_sorted = bucket_sort(A,3)\n",
    "print(A_sorted)"
   ]
  },
  {
   "cell_type": "code",
   "execution_count": 69,
   "metadata": {},
   "outputs": [
    {
     "name": "stdout",
     "output_type": "stream",
     "text": [
      "[3, 10, 100, 201]\n"
     ]
    }
   ],
   "source": [
    "A_sorted = radix_sort(A,3,202)\n",
    "print(A_sorted)"
   ]
  },
  {
   "cell_type": "markdown",
   "metadata": {},
   "source": [
    "## Examples\n",
    "\n",
    "Here are some examples of random vectors being sorted with `radix_sort` function\n",
    "\n",
    "### 2 digits elements"
   ]
  },
  {
   "cell_type": "code",
   "execution_count": 51,
   "metadata": {},
   "outputs": [
    {
     "data": {
      "text/plain": [
       "[93, 48, 65, 7, 8, 48, 38, 67, 94, 30]"
      ]
     },
     "execution_count": 51,
     "metadata": {},
     "output_type": "execute_result"
    }
   ],
   "source": [
    "x = [np.random.randint(0,100) for x in range(10)]\n",
    "x"
   ]
  },
  {
   "cell_type": "code",
   "execution_count": 52,
   "metadata": {},
   "outputs": [
    {
     "data": {
      "text/plain": [
       "[7, 8, 30, 38, 48, 48, 65, 67, 93, 94]"
      ]
     },
     "execution_count": 52,
     "metadata": {},
     "output_type": "execute_result"
    }
   ],
   "source": [
    "radix_sort(x,2,100)"
   ]
  },
  {
   "cell_type": "markdown",
   "metadata": {},
   "source": [
    "### 3 digits elements"
   ]
  },
  {
   "cell_type": "code",
   "execution_count": 75,
   "metadata": {},
   "outputs": [
    {
     "data": {
      "text/plain": [
       "[90, 64, 44, 82, 37, 90, 83, 19, 94, 85]"
      ]
     },
     "execution_count": 75,
     "metadata": {},
     "output_type": "execute_result"
    }
   ],
   "source": [
    "x = [np.random.randint(0,10**2) for x in range(10)]\n",
    "x"
   ]
  },
  {
   "cell_type": "code",
   "execution_count": 76,
   "metadata": {},
   "outputs": [
    {
     "data": {
      "text/plain": [
       "[19, 37, 44, 64, 82, 83, 85, 90, 90, 94]"
      ]
     },
     "execution_count": 76,
     "metadata": {},
     "output_type": "execute_result"
    }
   ],
   "source": [
    "radix_sort(x,3,10**2)"
   ]
  },
  {
   "cell_type": "markdown",
   "metadata": {},
   "source": [
    "### 6 digits elements"
   ]
  },
  {
   "cell_type": "code",
   "execution_count": 79,
   "metadata": {},
   "outputs": [
    {
     "data": {
      "text/plain": [
       "[137630, 218237, 186234, 631637, 341760, 167972, 51569, 295440, 748643, 631649]"
      ]
     },
     "execution_count": 79,
     "metadata": {},
     "output_type": "execute_result"
    }
   ],
   "source": [
    "x = [np.random.randint(0,10**6) for x in range(10)]\n",
    "x"
   ]
  },
  {
   "cell_type": "code",
   "execution_count": 80,
   "metadata": {},
   "outputs": [
    {
     "data": {
      "text/plain": [
       "[51569, 137630, 167972, 186234, 218237, 295440, 341760, 631637, 631649, 748643]"
      ]
     },
     "execution_count": 80,
     "metadata": {},
     "output_type": "execute_result"
    }
   ],
   "source": [
    "radix_sort(x,8,10**6)"
   ]
  },
  {
   "cell_type": "markdown",
   "metadata": {},
   "source": [
    "**The end!**"
   ]
  }
 ],
 "metadata": {
  "kernelspec": {
   "display_name": "Python 3",
   "language": "python",
   "name": "python3"
  },
  "language_info": {
   "codemirror_mode": {
    "name": "ipython",
    "version": 3
   },
   "file_extension": ".py",
   "mimetype": "text/x-python",
   "name": "python",
   "nbconvert_exporter": "python",
   "pygments_lexer": "ipython3",
   "version": "3.7.3"
  }
 },
 "nbformat": 4,
 "nbformat_minor": 2
}
